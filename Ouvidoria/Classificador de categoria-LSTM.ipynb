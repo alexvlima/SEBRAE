{
 "cells": [
  {
   "cell_type": "code",
   "execution_count": 1,
   "metadata": {},
   "outputs": [
    {
     "name": "stderr",
     "output_type": "stream",
     "text": [
      "Using TensorFlow backend.\n"
     ]
    }
   ],
   "source": [
    "import pandas as pd\n",
    "import numpy as np\n",
    "import matplotlib.pyplot as plt\n",
    "\n",
    "from sklearn.model_selection import train_test_split\n",
    "from sklearn.metrics import confusion_matrix\n",
    "from sklearn.metrics import classification_report\n",
    "from sklearn.metrics import accuracy_score\n",
    "\n",
    "from utils import *\n",
    "from collections import Counter\n",
    "from keras.models import Model\n",
    "from keras.layers import Dense, Input, Dropout, LSTM, Activation\n",
    "from keras.layers.embeddings import Embedding\n"
   ]
  },
  {
   "cell_type": "code",
   "execution_count": 2,
   "metadata": {},
   "outputs": [
    {
     "name": "stdout",
     "output_type": "stream",
     "text": [
      "(1286, 17)\n"
     ]
    },
    {
     "data": {
      "text/html": [
       "<div>\n",
       "<style scoped>\n",
       "    .dataframe tbody tr th:only-of-type {\n",
       "        vertical-align: middle;\n",
       "    }\n",
       "\n",
       "    .dataframe tbody tr th {\n",
       "        vertical-align: top;\n",
       "    }\n",
       "\n",
       "    .dataframe thead th {\n",
       "        text-align: right;\n",
       "    }\n",
       "</style>\n",
       "<table border=\"1\" class=\"dataframe\">\n",
       "  <thead>\n",
       "    <tr style=\"text-align: right;\">\n",
       "      <th></th>\n",
       "      <th>N. da manifestação</th>\n",
       "      <th>Situação</th>\n",
       "      <th>Área de tratamento</th>\n",
       "      <th>Relato</th>\n",
       "      <th>Natureza</th>\n",
       "      <th>Assunto principal</th>\n",
       "      <th>Sub assunto 1</th>\n",
       "      <th>Sub assunto 2</th>\n",
       "      <th>Sub assunto 3</th>\n",
       "      <th>Produto serviço</th>\n",
       "      <th>Canal de entrada</th>\n",
       "      <th>Cliente interno</th>\n",
       "      <th>Cidade do cliente</th>\n",
       "      <th>UF do cliente</th>\n",
       "      <th>Dt. cadastro manifestação</th>\n",
       "      <th>Previsão de conclusão</th>\n",
       "      <th>Tempo resposta</th>\n",
       "    </tr>\n",
       "  </thead>\n",
       "  <tbody>\n",
       "    <tr>\n",
       "      <th>0</th>\n",
       "      <td>76432018</td>\n",
       "      <td>Finalizada</td>\n",
       "      <td>Sebrae/AC</td>\n",
       "      <td>Boa tarde.\\n\\nDesde algum tempo que acompanho ...</td>\n",
       "      <td>Solicitação</td>\n",
       "      <td>Atendimento Sebrae</td>\n",
       "      <td>Online/Chat</td>\n",
       "      <td>Cadastro</td>\n",
       "      <td>NaN</td>\n",
       "      <td>NaN</td>\n",
       "      <td>Portal</td>\n",
       "      <td>Não</td>\n",
       "      <td>NaN</td>\n",
       "      <td>NaN</td>\n",
       "      <td>25/10/2018 13:25</td>\n",
       "      <td>04/11/2018</td>\n",
       "      <td>6</td>\n",
       "    </tr>\n",
       "    <tr>\n",
       "      <th>1</th>\n",
       "      <td>85632018</td>\n",
       "      <td>Finalizada</td>\n",
       "      <td>Sebrae/AC</td>\n",
       "      <td>Sou Julio Cesar Freitas moro na cidade de Rio ...</td>\n",
       "      <td>Reclamação</td>\n",
       "      <td>Atendimento Sebrae</td>\n",
       "      <td>Presencial</td>\n",
       "      <td>Falta de retorno</td>\n",
       "      <td>NaN</td>\n",
       "      <td>NaN</td>\n",
       "      <td>Portal</td>\n",
       "      <td>Não</td>\n",
       "      <td>Rio Branco</td>\n",
       "      <td>AC</td>\n",
       "      <td>06/12/2018 12:15</td>\n",
       "      <td>16/12/2018</td>\n",
       "      <td>15</td>\n",
       "    </tr>\n",
       "    <tr>\n",
       "      <th>2</th>\n",
       "      <td>87912018</td>\n",
       "      <td>Finalizada</td>\n",
       "      <td>Sebrae/AC</td>\n",
       "      <td>o meu programa de nfe nao esta mais instalando</td>\n",
       "      <td>Solicitação</td>\n",
       "      <td>Emissor de Nota Fiscal - NF-e/CT-e</td>\n",
       "      <td>NaN</td>\n",
       "      <td>NaN</td>\n",
       "      <td>NaN</td>\n",
       "      <td>NaN</td>\n",
       "      <td>Chatbot</td>\n",
       "      <td>Não</td>\n",
       "      <td>NaN</td>\n",
       "      <td>AC</td>\n",
       "      <td>19/12/2018 18:54</td>\n",
       "      <td>29/12/2018</td>\n",
       "      <td>2</td>\n",
       "    </tr>\n",
       "  </tbody>\n",
       "</table>\n",
       "</div>"
      ],
      "text/plain": [
       "   N. da manifestação    Situação Área de tratamento  \\\n",
       "0            76432018  Finalizada          Sebrae/AC   \n",
       "1            85632018  Finalizada          Sebrae/AC   \n",
       "2            87912018  Finalizada          Sebrae/AC   \n",
       "\n",
       "                                              Relato     Natureza  \\\n",
       "0  Boa tarde.\\n\\nDesde algum tempo que acompanho ...  Solicitação   \n",
       "1  Sou Julio Cesar Freitas moro na cidade de Rio ...   Reclamação   \n",
       "2     o meu programa de nfe nao esta mais instalando  Solicitação   \n",
       "\n",
       "                    Assunto principal Sub assunto 1     Sub assunto 2  \\\n",
       "0                  Atendimento Sebrae   Online/Chat          Cadastro   \n",
       "1                  Atendimento Sebrae    Presencial  Falta de retorno   \n",
       "2  Emissor de Nota Fiscal - NF-e/CT-e           NaN               NaN   \n",
       "\n",
       "  Sub assunto 3 Produto serviço Canal de entrada Cliente interno  \\\n",
       "0           NaN             NaN           Portal             Não   \n",
       "1           NaN             NaN           Portal             Não   \n",
       "2           NaN             NaN          Chatbot             Não   \n",
       "\n",
       "  Cidade do cliente UF do cliente Dt. cadastro manifestação  \\\n",
       "0               NaN           NaN          25/10/2018 13:25   \n",
       "1        Rio Branco            AC          06/12/2018 12:15   \n",
       "2               NaN            AC          19/12/2018 18:54   \n",
       "\n",
       "  Previsão de conclusão  Tempo resposta  \n",
       "0            04/11/2018               6  \n",
       "1            16/12/2018              15  \n",
       "2            29/12/2018               2  "
      ]
     },
     "execution_count": 2,
     "metadata": {},
     "output_type": "execute_result"
    }
   ],
   "source": [
    "df = pd.read_excel('data/sebrae.xls')\n",
    "print(df.shape)\n",
    "df.head(3)"
   ]
  },
  {
   "cell_type": "markdown",
   "metadata": {},
   "source": [
    "### Distribuição das manifestações por categoria"
   ]
  },
  {
   "cell_type": "code",
   "execution_count": 3,
   "metadata": {},
   "outputs": [
    {
     "name": "stdout",
     "output_type": "stream",
     "text": [
      "Solicitação    507\n",
      "Reclamação     454\n",
      "Elogio         204\n",
      "Sugestão        78\n",
      "Crítica         43\n",
      "Name: Natureza, dtype: int64\n"
     ]
    },
    {
     "data": {
      "text/plain": [
       "<matplotlib.axes._subplots.AxesSubplot at 0x7fcf618ea550>"
      ]
     },
     "execution_count": 3,
     "metadata": {},
     "output_type": "execute_result"
    },
    {
     "data": {
      "image/png": "[encoded data removed]",
      "text/plain": [
       "<Figure size 432x288 with 1 Axes>"
      ]
     },
     "metadata": {},
     "output_type": "display_data"
    }
   ],
   "source": [
    "print(df.Natureza.value_counts())\n",
    "df.Natureza.value_counts().plot.bar()"
   ]
  },
  {
   "cell_type": "code",
   "execution_count": 4,
   "metadata": {},
   "outputs": [],
   "source": [
    "df['class'] = df.Natureza.replace({'Solicitação': 0, 'Reclamação': 1, 'Elogio': 2,'Sugestão': 3,'Crítica': 4})"
   ]
  },
  {
   "cell_type": "markdown",
   "metadata": {},
   "source": [
    "#### Significado das classes\n",
    "* 0 - Solicitação\n",
    "* 1 - Reclamação\n",
    "* 2 - Elogio\n",
    "* 3 - Sugestão\n",
    "* 4 - Crítica"
   ]
  },
  {
   "cell_type": "code",
   "execution_count": 5,
   "metadata": {},
   "outputs": [
    {
     "data": {
      "text/plain": [
       "<matplotlib.axes._subplots.AxesSubplot at 0x7fcf618b4be0>"
      ]
     },
     "execution_count": 5,
     "metadata": {},
     "output_type": "execute_result"
    },
    {
     "data": {
      "image/png": "[encoded data removed]",
      "text/plain": [
       "<Figure size 432x288 with 1 Axes>"
      ]
     },
     "metadata": {},
     "output_type": "display_data"
    }
   ],
   "source": [
    "df['class'].value_counts().plot.bar()"
   ]
  },
  {
   "cell_type": "markdown",
   "metadata": {},
   "source": [
    "### Amostra das manifestações"
   ]
  },
  {
   "cell_type": "code",
   "execution_count": 6,
   "metadata": {},
   "outputs": [
    {
     "name": "stdout",
     "output_type": "stream",
     "text": [
      "Reclamação:\n",
      "Sou Julio Cesar Freitas moro na cidade de Rio Branco e venho manifestar minha insatisfação com o atendimento no Sebrae-AC.\n",
      "Essa é a terceira vez em 2 anos que procuro o Sebrae local buscando  orientações e informações sobre como iniciar um negócio que idealizado, mas não tenho tido “sorte”.\n",
      "O processo de atendimento parece não ter um fluxo padronizado. A impressão que tive, nas vezes que procurei atendimento, é que existe um enorme abismo entre o serviço propagandeado pelo Sebrae e a realidade no atendimento.\n",
      "Quero dizer que o acolhimento - pelo menos inicial já que nunca consegui passar dele - não tem fluidez.\n",
      "Na minha experiência, particularmente, sempre apareceram obstáculos. Não retorno de atendimento, remarcações e imprevistos são alguns das ocorrências que marcam minha passagem pelo órgão.\n",
      "Resumindo numa frase a minha impressão do Sebrae-AC: há um certo nível de falta de informação aliado a uma possível ausência de processo, de fluxo no atendimento inicial que acaba afastando o pretenso empreendedor.\n",
      "\n",
      "\n",
      "Elogio:\n",
      "Sr Dailson Valença, um ótimo consultor, me ajudou em tudo.\n",
      "\n",
      "Crítica:\n",
      "Uniforme insuficiente - faltou Avental p/ colaborador. Falta de divulgação na imprensa. Data escolhida fora de pagamento. Falta de comunicação com gestor. Stand de patrocinadores distribuindo bebidas e lanches gratuitamente.\n"
     ]
    }
   ],
   "source": [
    "print(\"Reclamação:\")\n",
    "for valor in df.loc[df['class']==1]['Relato'][:1].values:\n",
    "    print(valor)\n",
    "print(\"\")    \n",
    "\n",
    "print(\"Elogio:\")\n",
    "for valor in df.loc[df['class']==2]['Relato'][:1].values:\n",
    "    print(valor)\n",
    "print(\"\")    \n",
    "\n",
    "print(\"Crítica:\")\n",
    "for valor in df.loc[df['class']==4]['Relato'][:1].values:\n",
    "    print(valor)\n"
   ]
  },
  {
   "cell_type": "code",
   "execution_count": 7,
   "metadata": {},
   "outputs": [
    {
     "name": "stdout",
     "output_type": "stream",
     "text": [
      "max len text: 4096\n"
     ]
    }
   ],
   "source": [
    "print(\"max len text:\",df.Relato.map(lambda x: len(x)).max())"
   ]
  },
  {
   "cell_type": "markdown",
   "metadata": {},
   "source": [
    "### remove stop words"
   ]
  },
  {
   "cell_type": "code",
   "execution_count": 8,
   "metadata": {},
   "outputs": [],
   "source": [
    "stop_words = ['de','e','a','o','quem','que','do','para','no',\n",
    "             'em','da','um','uma','com','na','por','me','O',\n",
    "             'ao','é','como','foi','as','os','meu','A','se',\n",
    "             '-','eu','DE','pelo','E','mas','minha','dos',\n",
    "             'pela','ou','pois','at','já','DO','QUE','das',\n",
    "             'No',',','nos','ser','está','O','esse','at',\n",
    "              'estou','sem','O',\n",
    "             'Estou','No','EM','Por','sobre','tem','É','à',\n",
    "             'pra','ter','tudo','A','Eu','você','DA','esta',\n",
    "             'sua','PARA','onde','estava','.','fui','Como',\n",
    "             'quando','NO','aos','até','essa','este','sou',\n",
    "              '–','at','No']\n",
    "\n",
    "for ponto in ['.',',','!','?',';',':']:\n",
    "    df.Relato = df.Relato.str.replace(ponto,'')\n",
    "#df = remove_stop_words(df,stop_words)"
   ]
  },
  {
   "cell_type": "markdown",
   "metadata": {},
   "source": [
    "### Pre processa dados"
   ]
  },
  {
   "cell_type": "code",
   "execution_count": 9,
   "metadata": {},
   "outputs": [],
   "source": [
    "all_text = df.Relato.str.cat()\n",
    "reviews = df.Relato\n",
    "\n",
    "all_text = ' '.join(reviews)\n",
    "words = all_text.split()"
   ]
  },
  {
   "cell_type": "code",
   "execution_count": 10,
   "metadata": {},
   "outputs": [],
   "source": [
    "counts = Counter(words)\n",
    "vocab = sorted(counts, key=counts.get, reverse=True)\n",
    "vocab_to_int = {word: ii for ii, word in enumerate(vocab, 1)}\n",
    "\n",
    "reviews_ints = []\n",
    "for each in reviews:\n",
    "    reviews_ints.append([vocab_to_int[word] for word in each.split()])"
   ]
  },
  {
   "cell_type": "code",
   "execution_count": 11,
   "metadata": {},
   "outputs": [
    {
     "data": {
      "text/plain": [
       "16740"
      ]
     },
     "execution_count": 11,
     "metadata": {},
     "output_type": "execute_result"
    }
   ],
   "source": [
    "len(vocab)"
   ]
  },
  {
   "cell_type": "markdown",
   "metadata": {},
   "source": [
    "### estabelece tamanho do input da rede"
   ]
  },
  {
   "cell_type": "code",
   "execution_count": 12,
   "metadata": {},
   "outputs": [],
   "source": [
    "seq_len = 100\n",
    "features = np.zeros((len(reviews_ints), seq_len), dtype=int)\n",
    "for i, row in enumerate(reviews_ints):\n",
    "    features[i, -len(row):] = np.array(row)[:seq_len]"
   ]
  },
  {
   "cell_type": "code",
   "execution_count": 13,
   "metadata": {},
   "outputs": [
    {
     "data": {
      "text/plain": [
       "(1286, 1286)"
      ]
     },
     "execution_count": 13,
     "metadata": {},
     "output_type": "execute_result"
    }
   ],
   "source": [
    "X = features\n",
    "Y = df['class']\n",
    "len(X), len(Y)"
   ]
  },
  {
   "cell_type": "code",
   "execution_count": 14,
   "metadata": {},
   "outputs": [
    {
     "name": "stdout",
     "output_type": "stream",
     "text": [
      "texto: Paguei um curso de 4 dias que dava direito a 2 horas de consultoria agendei com o consultor e ele não foi tentou me ligar e não conseguiu por isso não foi e não conseguimos nos encontrar falei com ele pra remarcar mas até hoje ele não me deu retorno já encontrei com ele pessoalmente e ele fingiu estar tudo normal e agiu desconfiado me senti decepcionado hoje não quero mais a consultoria dele se surgir uma outra oportunidade de curso ou consultoria farei tranquilo só não com ele \n",
      "indices: [   0    0    0    0    0    0    0    0    0    0    0 2187   13   29\n",
      "    1  442  165    4 1884  693    5  309  311    1  191 4403   11    3\n",
      "  336    2   83    8   21 3279   17  485    2    8 2618   18   62    8\n",
      "   21    2    8 1023   63 1469 1217   11   83  108 4404   41   70  117\n",
      "   83    8   17  486  125   44  761   11   83 1326    2   83 6895  352\n",
      "   82 1470    2 6896 6897   17 1471 1885  117    8  206   33    5  191\n",
      "  571   28 6898   14  216  312    1   29   47  191 2619 4405   94    8\n",
      "   11   83]\n",
      "classe: 1\n"
     ]
    }
   ],
   "source": [
    "print(\"texto:\",df.Relato[6])\n",
    "print(\"indices:\",X[6])\n",
    "print(\"classe:\",Y[6])\n",
    "# 1 = Reclamação"
   ]
  },
  {
   "cell_type": "code",
   "execution_count": 15,
   "metadata": {},
   "outputs": [
    {
     "name": "stdout",
     "output_type": "stream",
     "text": [
      "2187\n"
     ]
    }
   ],
   "source": [
    "print(vocab_to_int['Paguei'])"
   ]
  },
  {
   "cell_type": "code",
   "execution_count": 16,
   "metadata": {},
   "outputs": [],
   "source": [
    "Y_ohe, Y_idx, klass_to_idx, idx_to_klass = convert_to_one_hot(Y)"
   ]
  },
  {
   "cell_type": "code",
   "execution_count": 17,
   "metadata": {},
   "outputs": [
    {
     "name": "stdout",
     "output_type": "stream",
     "text": [
      "mapeamento de classe para índice do one-hot:\n"
     ]
    },
    {
     "data": {
      "text/plain": [
       "{0: 0, 1: 1, 2: 2, 3: 3, 4: 4}"
      ]
     },
     "execution_count": 17,
     "metadata": {},
     "output_type": "execute_result"
    }
   ],
   "source": [
    "print(\"mapeamento de classe para índice do one-hot:\")\n",
    "klass_to_idx"
   ]
  },
  {
   "cell_type": "code",
   "execution_count": 18,
   "metadata": {},
   "outputs": [],
   "source": [
    "X_train, X_test, y_train, y_test = train_test_split(X,Y_ohe,test_size=0.2, random_state=1) "
   ]
  },
  {
   "cell_type": "code",
   "execution_count": 19,
   "metadata": {},
   "outputs": [],
   "source": [
    "def create_model(input_shape,vocab,emb_dim):\n",
    "    \"\"\"\n",
    "    Function creating the Emojify-v2 model's graph.\n",
    "    \n",
    "    Arguments:\n",
    "    input_shape -- shape of the input, usually (max_len,)\n",
    "    word_to_vec_map -- dictionary mapping every word in a vocabulary into its 50-dimensional vector representation\n",
    "    word_to_index -- dictionary mapping from words to their indices in the vocabulary (400,001 words)\n",
    "\n",
    "    Returns:\n",
    "    model -- a model instance in Keras\n",
    "    \"\"\"\n",
    "    \n",
    "    # Define sentence_indices as the input of the graph, it should be of shape input_shape and dtype 'int32' (as it contains indices).\n",
    "    sentence_indices = Input(shape=input_shape, dtype='int32')\n",
    "    \n",
    "    # Create the embedding layer pretrained with GloVe Vectors (≈1 line)\n",
    "    embedding_layer = Embedding(input_dim=len(vocab) +1, output_dim=emb_dim, input_length=input_shape)\n",
    "    \n",
    "    # Propagate sentence_indices through your embedding layer, you get back the embeddings\n",
    "    embeddings = embedding_layer(sentence_indices)\n",
    "    \n",
    "    # Propagate the embeddings through an LSTM layer with 128-dimensional hidden state\n",
    "    # Be careful, the returned output should be a batch of sequences.\n",
    "    X = LSTM(8, return_sequences=False)(embeddings)\n",
    "    # Add dropout with a probability of 0.5\n",
    "    X = Dropout(0.5)(X)\n",
    "\n",
    "    # Propagate X through a Dense layer with softmax activation to get back a batch of 3-dimensional vectors.\n",
    "    X = Dense(5)(X)\n",
    "    \n",
    "    # Add a softmax activation\n",
    "    X = Activation('softmax')(X)\n",
    "    \n",
    "    # Create Model instance which converts sentence_indices into X.\n",
    "    model = Model(input=sentence_indices, output=X)\n",
    "    \n",
    "    return model"
   ]
  },
  {
   "cell_type": "code",
   "execution_count": 20,
   "metadata": {},
   "outputs": [
    {
     "name": "stdout",
     "output_type": "stream",
     "text": [
      "_________________________________________________________________\n",
      "Layer (type)                 Output Shape              Param #   \n",
      "=================================================================\n",
      "input_1 (InputLayer)         (None, 100)               0         \n",
      "_________________________________________________________________\n",
      "embedding_1 (Embedding)      (None, 100, 40)           669640    \n",
      "_________________________________________________________________\n",
      "lstm_1 (LSTM)                (None, 8)                 1568      \n",
      "_________________________________________________________________\n",
      "dropout_1 (Dropout)          (None, 8)                 0         \n",
      "_________________________________________________________________\n",
      "dense_1 (Dense)              (None, 5)                 45        \n",
      "_________________________________________________________________\n",
      "activation_1 (Activation)    (None, 5)                 0         \n",
      "=================================================================\n",
      "Total params: 671,253\n",
      "Trainable params: 671,253\n",
      "Non-trainable params: 0\n",
      "_________________________________________________________________\n"
     ]
    },
    {
     "name": "stderr",
     "output_type": "stream",
     "text": [
      "/home/chris/anaconda3/lib/python3.6/site-packages/ipykernel/__main__.py:36: UserWarning: Update your `Model` call to the Keras 2 API: `Model(inputs=Tensor(\"in..., outputs=Tensor(\"ac...)`\n"
     ]
    }
   ],
   "source": [
    "emb_dim = 40\n",
    "model = create_model((seq_len,),vocab, emb_dim)\n",
    "model.summary()"
   ]
  },
  {
   "cell_type": "code",
   "execution_count": 21,
   "metadata": {},
   "outputs": [],
   "source": [
    "model.compile(loss='categorical_crossentropy', optimizer=\"adam\", metrics=['accuracy'])"
   ]
  },
  {
   "cell_type": "code",
   "execution_count": 22,
   "metadata": {},
   "outputs": [
    {
     "name": "stdout",
     "output_type": "stream",
     "text": [
      "Epoch 1/8\n",
      "1028/1028 [==============================] - 6s 5ms/step - loss: 1.5879 - acc: 0.3210\n",
      "Epoch 2/8\n",
      "1028/1028 [==============================] - 4s 4ms/step - loss: 1.5160 - acc: 0.3658\n",
      "Epoch 3/8\n",
      "1028/1028 [==============================] - 4s 4ms/step - loss: 1.3980 - acc: 0.3998\n",
      "Epoch 4/8\n",
      "1028/1028 [==============================] - 4s 4ms/step - loss: 1.2091 - acc: 0.5447\n",
      "Epoch 5/8\n",
      "1028/1028 [==============================] - 4s 4ms/step - loss: 1.0539 - acc: 0.6411\n",
      "Epoch 6/8\n",
      "1028/1028 [==============================] - 5s 4ms/step - loss: 0.9348 - acc: 0.6508\n",
      "Epoch 7/8\n",
      "1028/1028 [==============================] - 5s 4ms/step - loss: 0.9105 - acc: 0.6644\n",
      "Epoch 8/8\n",
      "1028/1028 [==============================] - 4s 4ms/step - loss: 0.8000 - acc: 0.7091\n"
     ]
    },
    {
     "data": {
      "text/plain": [
       "<keras.callbacks.History at 0x7fcf5ee73da0>"
      ]
     },
     "execution_count": 22,
     "metadata": {},
     "output_type": "execute_result"
    }
   ],
   "source": [
    "model.fit(np.array(X_train), y_train, epochs=8, batch_size=32, shuffle=True)"
   ]
  },
  {
   "cell_type": "code",
   "execution_count": 23,
   "metadata": {},
   "outputs": [
    {
     "name": "stdout",
     "output_type": "stream",
     "text": [
      "loss e acc teste:\n",
      "258/258 [==============================] - 0s 1ms/step\n"
     ]
    },
    {
     "data": {
      "text/plain": [
       "[0.9845352875169857, 0.6627906976744186]"
      ]
     },
     "execution_count": 23,
     "metadata": {},
     "output_type": "execute_result"
    }
   ],
   "source": [
    "print(\"loss e acc teste:\")\n",
    "model.evaluate(X_test, y_test)"
   ]
  },
  {
   "cell_type": "code",
   "execution_count": 24,
   "metadata": {},
   "outputs": [
    {
     "name": "stdout",
     "output_type": "stream",
     "text": [
      "Epoch 1/4\n",
      "1028/1028 [==============================] - 5s 4ms/step - loss: 0.7477 - acc: 0.7101\n",
      "Epoch 2/4\n",
      "1028/1028 [==============================] - 5s 4ms/step - loss: 0.6976 - acc: 0.7169\n",
      "Epoch 3/4\n",
      "1028/1028 [==============================] - 4s 4ms/step - loss: 0.6754 - acc: 0.7286\n",
      "Epoch 4/4\n",
      "1028/1028 [==============================] - 5s 5ms/step - loss: 0.6434 - acc: 0.7481\n"
     ]
    },
    {
     "data": {
      "text/plain": [
       "<keras.callbacks.History at 0x7fcf617f0208>"
      ]
     },
     "execution_count": 24,
     "metadata": {},
     "output_type": "execute_result"
    }
   ],
   "source": [
    "model.fit(np.array(X_train), y_train, epochs=4, batch_size=32, shuffle=True)"
   ]
  },
  {
   "cell_type": "code",
   "execution_count": 25,
   "metadata": {},
   "outputs": [
    {
     "name": "stdout",
     "output_type": "stream",
     "text": [
      "loss e acc teste:\n",
      "258/258 [==============================] - 0s 785us/step\n"
     ]
    },
    {
     "data": {
      "text/plain": [
       "[0.9614876397820407, 0.6395348837209303]"
      ]
     },
     "execution_count": 25,
     "metadata": {},
     "output_type": "execute_result"
    }
   ],
   "source": [
    "print(\"loss e acc teste:\")\n",
    "model.evaluate(X_test, y_test)"
   ]
  },
  {
   "cell_type": "code",
   "execution_count": 26,
   "metadata": {},
   "outputs": [
    {
     "name": "stdout",
     "output_type": "stream",
     "text": [
      "loss e acc treino:\n",
      "1028/1028 [==============================] - 0s 395us/step\n"
     ]
    },
    {
     "data": {
      "text/plain": [
       "[0.48156603486621424, 0.8803501945525292]"
      ]
     },
     "execution_count": 26,
     "metadata": {},
     "output_type": "execute_result"
    }
   ],
   "source": [
    "print(\"loss e acc treino:\")\n",
    "model.evaluate(X_train, y_train)"
   ]
  },
  {
   "cell_type": "markdown",
   "metadata": {},
   "source": [
    "### Perfil das previsoes no dataset de teste"
   ]
  },
  {
   "cell_type": "code",
   "execution_count": 27,
   "metadata": {},
   "outputs": [],
   "source": [
    "predictions = model.predict(X_test)\n",
    "#predictions"
   ]
  },
  {
   "cell_type": "code",
   "execution_count": 28,
   "metadata": {},
   "outputs": [
    {
     "data": {
      "text/plain": [
       "0    114\n",
       "1     99\n",
       "2     45\n",
       "Name: 0, dtype: int64"
      ]
     },
     "execution_count": 28,
     "metadata": {},
     "output_type": "execute_result"
    }
   ],
   "source": [
    "pd.DataFrame(predictions.argmax(axis=1))[0].value_counts()"
   ]
  },
  {
   "cell_type": "markdown",
   "metadata": {},
   "source": [
    "### Matriz de confusão"
   ]
  },
  {
   "cell_type": "code",
   "execution_count": 29,
   "metadata": {},
   "outputs": [],
   "source": [
    "cnf_matrix = confusion_matrix(y_test.argmax(axis=1), predictions.argmax(axis=1))\n",
    "np.set_printoptions(precision=2)"
   ]
  },
  {
   "cell_type": "code",
   "execution_count": 30,
   "metadata": {},
   "outputs": [
    {
     "name": "stdout",
     "output_type": "stream",
     "text": [
      "Confusion matrix, without normalization\n",
      "[[79 27  1  0  0]\n",
      " [26 55  9  0  0]\n",
      " [ 3 13 31  0  0]\n",
      " [ 4  3  3  0  0]\n",
      " [ 2  1  1  0  0]]\n"
     ]
    },
    {
     "data": {
      "image/png": "[encoded data removed]",
      "text/plain": [
       "<Figure size 432x288 with 2 Axes>"
      ]
     },
     "metadata": {},
     "output_type": "display_data"
    }
   ],
   "source": [
    "plt.figure()\n",
    "classes = ['Solicitação','Reclamação','Elogio','Sugestão','Crítica']\n",
    "plot_confusion_matrix(cnf_matrix, classes=classes,\n",
    "                      title='Confusion matrix')"
   ]
  },
  {
   "cell_type": "markdown",
   "metadata": {},
   "source": [
    "### Testando um registro único"
   ]
  },
  {
   "cell_type": "code",
   "execution_count": 31,
   "metadata": {},
   "outputs": [],
   "source": [
    "text = df.Relato[0]\n",
    "text = [vocab_to_int[word] for word in text.split()]\n",
    "features = np.zeros((seq_len), dtype=int)\n",
    "features[-len(text):] = np.array(text)[:seq_len]"
   ]
  },
  {
   "cell_type": "code",
   "execution_count": 32,
   "metadata": {},
   "outputs": [],
   "source": [
    "features = np.expand_dims(features, axis=0)"
   ]
  },
  {
   "cell_type": "code",
   "execution_count": 33,
   "metadata": {},
   "outputs": [
    {
     "data": {
      "text/plain": [
       "array([0])"
      ]
     },
     "execution_count": 33,
     "metadata": {},
     "output_type": "execute_result"
    }
   ],
   "source": [
    "prediction = model.predict(features)\n",
    "prediction.argmax(axis=1)"
   ]
  },
  {
   "cell_type": "code",
   "execution_count": 34,
   "metadata": {},
   "outputs": [
    {
     "name": "stdout",
     "output_type": "stream",
     "text": [
      "classe: Solicitação\n",
      "cod classe: 0\n",
      "previsão: 0\n",
      "texto: Boa tarde\n",
      "\n",
      "Desde algum tempo que acompanho a vossa informação porque é de bastante interesse Desde já os meus parabéns\n",
      "Gostaria de continuar a aceder ao vosso site sem ser necessário colocar o  CPF o estado e a cidade dado que não me enquadro pois sou português Como fazer para me cadastrar\n",
      "\n",
      "Cumprimentos\n",
      "Luís Espadana\n",
      "\n",
      "indices do vocabulario: [65, 69, 203, 276, 144, 4, 6820, 5, 3263, 166, 120, 16, 1, 350, 262, 203, 44, 26, 189, 508, 67, 1, 601, 5, 6821, 22, 6822, 55, 72, 53, 483, 621, 3, 184, 3, 719, 2, 5, 221, 836, 4, 8, 17, 4375, 46, 149, 4376, 152, 43, 7, 17, 436, 4377, 3264, 6823]\n",
      "\n",
      "input da rede: [   0    0    0    0    0    0    0    0    0    0    0    0    0    0\n",
      "    0    0    0    0    0    0    0    0    0    0    0    0    0    0\n",
      "    0    0    0    0    0    0    0    0    0    0    0    0    0    0\n",
      "    0    0    0   65   69  203  276  144    4 6820    5 3263  166  120\n",
      "   16    1  350  262  203   44   26  189  508   67    1  601    5 6821\n",
      "   22 6822   55   72   53  483  621    3  184    3  719    2    5  221\n",
      "  836    4    8   17 4375   46  149 4376  152   43    7   17  436 4377\n",
      " 3264 6823]\n"
     ]
    }
   ],
   "source": [
    "print(\"classe:\", df.Natureza[0])\n",
    "print('cod classe:',df['class'][0])\n",
    "print(\"previsão:\",prediction.argmax(axis=1)[0])\n",
    "print(\"texto:\",df.Relato[0])\n",
    "print()\n",
    "print(\"indices do vocabulario:\", text)\n",
    "print()\n",
    "print(\"input da rede:\",features[0])"
   ]
  },
  {
   "cell_type": "markdown",
   "metadata": {},
   "source": [
    "### Checando registros errados:"
   ]
  },
  {
   "cell_type": "code",
   "execution_count": 35,
   "metadata": {},
   "outputs": [],
   "source": [
    "def text_to_input(text,vocab_to_int):\n",
    "    text = [vocab_to_int[word] for word in text.split()]\n",
    "    features = np.zeros((seq_len), dtype=int)\n",
    "    features[-len(text):] = np.array(text)[:seq_len]\n",
    "    features = np.expand_dims(features, axis=0)\n",
    "    return features"
   ]
  },
  {
   "cell_type": "code",
   "execution_count": 36,
   "metadata": {},
   "outputs": [
    {
     "name": "stdout",
     "output_type": "stream",
     "text": [
      "errou a previsao no indice: 1\n",
      "texto: Sou Julio Cesar Freitas moro na cidade de Rio Branco e venho manifestar minha insatisfação com o atendimento no Sebrae-AC\n",
      "Essa é a terceira vez em 2 anos que procuro o Sebrae local buscando  orientações e informações sobre como iniciar um negócio que idealizado mas não tenho tido “sorte”\n",
      "O processo de atendimento parece não ter um fluxo padronizado A impressão que tive nas vezes que procurei atendimento é que existe um enorme abismo entre o serviço propagandeado pelo Sebrae e a realidade no atendimento\n",
      "Quero dizer que o acolhimento - pelo menos inicial já que nunca consegui passar dele - não tem fluidez\n",
      "Na minha experiência particularmente sempre apareceram obstáculos Não retorno de atendimento remarcações e imprevistos são alguns das ocorrências que marcam minha passagem pelo órgão\n",
      "Resumindo numa frase a minha impressão do Sebrae-AC há um certo nível de falta de informação aliado a uma possível ausência de processo de fluxo no atendimento inicial que acaba afastando o pretenso empreendedor\n",
      "\n",
      "classe prevista: 0\n",
      "classe verdadeira: 1\n",
      "\n",
      "errou a previsao no indice: 4\n",
      "texto: vcs colocam uns numeros ninguem atende colocam o programa de nota fiscal ninguem da suporte\n",
      "classe prevista: 0\n",
      "classe verdadeira: 1\n",
      "\n",
      "errou a previsao no indice: 6\n",
      "texto: Paguei um curso de 4 dias que dava direito a 2 horas de consultoria agendei com o consultor e ele não foi tentou me ligar e não conseguiu por isso não foi e não conseguimos nos encontrar falei com ele pra remarcar mas até hoje ele não me deu retorno já encontrei com ele pessoalmente e ele fingiu estar tudo normal e agiu desconfiado me senti decepcionado hoje não quero mais a consultoria dele se surgir uma outra oportunidade de curso ou consultoria farei tranquilo só não com ele \n",
      "classe prevista: 0\n",
      "classe verdadeira: 1\n",
      "\n",
      "errou a previsao no indice: 7\n",
      "texto: A moça do atendimento me atendeu muito mal Não me ajudou\n",
      "classe prevista: 0\n",
      "classe verdadeira: 1\n",
      "\n",
      "errou a previsao no indice: 8\n",
      "texto: ligo toda hora ninguem atende\n",
      "classe prevista: 0\n",
      "classe verdadeira: 1\n",
      "\n"
     ]
    }
   ],
   "source": [
    "for index in range(10):\n",
    "    X_test_dummy = text_to_input(df.Relato[index],vocab_to_int)\n",
    "    prediction = model.predict(features)\n",
    "    prediction = prediction.argmax(axis=1)[0]\n",
    "    if(prediction != df['class'][index]): #errou\n",
    "        print(\"errou a previsao no indice:\",index)\n",
    "        print(\"texto:\", df.Relato[index])\n",
    "        print(\"classe prevista:\", prediction)\n",
    "        print(\"classe verdadeira:\",df['class'][index])\n",
    "        print(\"\")"
   ]
  },
  {
   "cell_type": "code",
   "execution_count": null,
   "metadata": {},
   "outputs": [],
   "source": []
  }
 ],
 "metadata": {
  "kernelspec": {
   "display_name": "Python 3",
   "language": "python",
   "name": "python3"
  },
  "language_info": {
   "codemirror_mode": {
    "name": "ipython",
    "version": 3
   },
   "file_extension": ".py",
   "mimetype": "text/x-python",
   "name": "python",
   "nbconvert_exporter": "python",
   "pygments_lexer": "ipython3",
   "version": "3.6.5"
  }
 },
 "nbformat": 4,
 "nbformat_minor": 2
}
