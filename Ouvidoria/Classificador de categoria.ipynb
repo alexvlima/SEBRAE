{
 "cells": [
  {
   "cell_type": "code",
   "execution_count": 1,
   "metadata": {},
   "outputs": [
    {
     "name": "stderr",
     "output_type": "stream",
     "text": [
      "/home/chris/anaconda3/lib/python3.6/site-packages/sklearn/ensemble/weight_boosting.py:29: DeprecationWarning: numpy.core.umath_tests is an internal NumPy module and should not be imported. It will be removed in a future NumPy release.\n",
      "  from numpy.core.umath_tests import inner1d\n"
     ]
    }
   ],
   "source": [
    "import pandas as pd\n",
    "import numpy as np\n",
    "import matplotlib.pyplot as plt\n",
    "\n",
    "from sklearn.model_selection import train_test_split, GridSearchCV\n",
    "from sklearn.feature_extraction.text import TfidfVectorizer, CountVectorizer\n",
    "from sklearn.ensemble import RandomForestClassifier\n",
    "from sklearn.pipeline import Pipeline\n",
    "from sklearn.linear_model import SGDClassifier\n",
    "from sklearn.feature_extraction.text import TfidfTransformer\n",
    "from sklearn.metrics import confusion_matrix\n",
    "from sklearn.metrics import classification_report\n",
    "from sklearn.metrics import accuracy_score\n",
    "\n",
    "from utils import *"
   ]
  },
  {
   "cell_type": "code",
   "execution_count": 2,
   "metadata": {},
   "outputs": [
    {
     "name": "stdout",
     "output_type": "stream",
     "text": [
      "(1286, 17)\n"
     ]
    },
    {
     "data": {
      "text/html": [
       "<div>\n",
       "<style scoped>\n",
       "    .dataframe tbody tr th:only-of-type {\n",
       "        vertical-align: middle;\n",
       "    }\n",
       "\n",
       "    .dataframe tbody tr th {\n",
       "        vertical-align: top;\n",
       "    }\n",
       "\n",
       "    .dataframe thead th {\n",
       "        text-align: right;\n",
       "    }\n",
       "</style>\n",
       "<table border=\"1\" class=\"dataframe\">\n",
       "  <thead>\n",
       "    <tr style=\"text-align: right;\">\n",
       "      <th></th>\n",
       "      <th>N. da manifestação</th>\n",
       "      <th>Situação</th>\n",
       "      <th>Área de tratamento</th>\n",
       "      <th>Relato</th>\n",
       "      <th>Natureza</th>\n",
       "      <th>Assunto principal</th>\n",
       "      <th>Sub assunto 1</th>\n",
       "      <th>Sub assunto 2</th>\n",
       "      <th>Sub assunto 3</th>\n",
       "      <th>Produto serviço</th>\n",
       "      <th>Canal de entrada</th>\n",
       "      <th>Cliente interno</th>\n",
       "      <th>Cidade do cliente</th>\n",
       "      <th>UF do cliente</th>\n",
       "      <th>Dt. cadastro manifestação</th>\n",
       "      <th>Previsão de conclusão</th>\n",
       "      <th>Tempo resposta</th>\n",
       "    </tr>\n",
       "  </thead>\n",
       "  <tbody>\n",
       "    <tr>\n",
       "      <th>0</th>\n",
       "      <td>76432018</td>\n",
       "      <td>Finalizada</td>\n",
       "      <td>Sebrae/AC</td>\n",
       "      <td>Boa tarde.\\n\\nDesde algum tempo que acompanho ...</td>\n",
       "      <td>Solicitação</td>\n",
       "      <td>Atendimento Sebrae</td>\n",
       "      <td>Online/Chat</td>\n",
       "      <td>Cadastro</td>\n",
       "      <td>NaN</td>\n",
       "      <td>NaN</td>\n",
       "      <td>Portal</td>\n",
       "      <td>Não</td>\n",
       "      <td>NaN</td>\n",
       "      <td>NaN</td>\n",
       "      <td>25/10/2018 13:25</td>\n",
       "      <td>04/11/2018</td>\n",
       "      <td>6</td>\n",
       "    </tr>\n",
       "    <tr>\n",
       "      <th>1</th>\n",
       "      <td>85632018</td>\n",
       "      <td>Finalizada</td>\n",
       "      <td>Sebrae/AC</td>\n",
       "      <td>Sou Julio Cesar Freitas moro na cidade de Rio ...</td>\n",
       "      <td>Reclamação</td>\n",
       "      <td>Atendimento Sebrae</td>\n",
       "      <td>Presencial</td>\n",
       "      <td>Falta de retorno</td>\n",
       "      <td>NaN</td>\n",
       "      <td>NaN</td>\n",
       "      <td>Portal</td>\n",
       "      <td>Não</td>\n",
       "      <td>Rio Branco</td>\n",
       "      <td>AC</td>\n",
       "      <td>06/12/2018 12:15</td>\n",
       "      <td>16/12/2018</td>\n",
       "      <td>15</td>\n",
       "    </tr>\n",
       "    <tr>\n",
       "      <th>2</th>\n",
       "      <td>87912018</td>\n",
       "      <td>Finalizada</td>\n",
       "      <td>Sebrae/AC</td>\n",
       "      <td>o meu programa de nfe nao esta mais instalando</td>\n",
       "      <td>Solicitação</td>\n",
       "      <td>Emissor de Nota Fiscal - NF-e/CT-e</td>\n",
       "      <td>NaN</td>\n",
       "      <td>NaN</td>\n",
       "      <td>NaN</td>\n",
       "      <td>NaN</td>\n",
       "      <td>Chatbot</td>\n",
       "      <td>Não</td>\n",
       "      <td>NaN</td>\n",
       "      <td>AC</td>\n",
       "      <td>19/12/2018 18:54</td>\n",
       "      <td>29/12/2018</td>\n",
       "      <td>2</td>\n",
       "    </tr>\n",
       "  </tbody>\n",
       "</table>\n",
       "</div>"
      ],
      "text/plain": [
       "   N. da manifestação    Situação Área de tratamento  \\\n",
       "0            76432018  Finalizada          Sebrae/AC   \n",
       "1            85632018  Finalizada          Sebrae/AC   \n",
       "2            87912018  Finalizada          Sebrae/AC   \n",
       "\n",
       "                                              Relato     Natureza  \\\n",
       "0  Boa tarde.\\n\\nDesde algum tempo que acompanho ...  Solicitação   \n",
       "1  Sou Julio Cesar Freitas moro na cidade de Rio ...   Reclamação   \n",
       "2     o meu programa de nfe nao esta mais instalando  Solicitação   \n",
       "\n",
       "                    Assunto principal Sub assunto 1     Sub assunto 2  \\\n",
       "0                  Atendimento Sebrae   Online/Chat          Cadastro   \n",
       "1                  Atendimento Sebrae    Presencial  Falta de retorno   \n",
       "2  Emissor de Nota Fiscal - NF-e/CT-e           NaN               NaN   \n",
       "\n",
       "  Sub assunto 3 Produto serviço Canal de entrada Cliente interno  \\\n",
       "0           NaN             NaN           Portal             Não   \n",
       "1           NaN             NaN           Portal             Não   \n",
       "2           NaN             NaN          Chatbot             Não   \n",
       "\n",
       "  Cidade do cliente UF do cliente Dt. cadastro manifestação  \\\n",
       "0               NaN           NaN          25/10/2018 13:25   \n",
       "1        Rio Branco            AC          06/12/2018 12:15   \n",
       "2               NaN            AC          19/12/2018 18:54   \n",
       "\n",
       "  Previsão de conclusão  Tempo resposta  \n",
       "0            04/11/2018               6  \n",
       "1            16/12/2018              15  \n",
       "2            29/12/2018               2  "
      ]
     },
     "execution_count": 2,
     "metadata": {},
     "output_type": "execute_result"
    }
   ],
   "source": [
    "df = pd.read_excel('data/sebrae.xls')\n",
    "print(df.shape)\n",
    "df.head(3)"
   ]
  },
  {
   "cell_type": "markdown",
   "metadata": {},
   "source": [
    "### Distribuição das manifestações por categoria"
   ]
  },
  {
   "cell_type": "code",
   "execution_count": 3,
   "metadata": {},
   "outputs": [
    {
     "name": "stdout",
     "output_type": "stream",
     "text": [
      "Solicitação    507\n",
      "Reclamação     454\n",
      "Elogio         204\n",
      "Sugestão        78\n",
      "Crítica         43\n",
      "Name: Natureza, dtype: int64\n"
     ]
    },
    {
     "data": {
      "text/plain": [
       "<matplotlib.axes._subplots.AxesSubplot at 0x7f42d18ca240>"
      ]
     },
     "execution_count": 3,
     "metadata": {},
     "output_type": "execute_result"
    },
    {
     "data": {
      "image/png": "[encoded data removed]",
      "text/plain": [
       "<Figure size 432x288 with 1 Axes>"
      ]
     },
     "metadata": {},
     "output_type": "display_data"
    }
   ],
   "source": [
    "print(df.Natureza.value_counts())\n",
    "df.Natureza.value_counts().plot.bar()"
   ]
  },
  {
   "cell_type": "code",
   "execution_count": 4,
   "metadata": {},
   "outputs": [],
   "source": [
    "df['class'] = df.Natureza.replace({'Solicitação': 0, 'Reclamação': 1, 'Elogio': 2,'Sugestão': 3,'Crítica': 4})"
   ]
  },
  {
   "cell_type": "markdown",
   "metadata": {},
   "source": [
    "#### Significado das classes\n",
    "* 0 - Solicitação\n",
    "* 1 - Reclamação\n",
    "* 2 - Elogio\n",
    "* 3 - Sugestão\n",
    "* 4 - Crítica"
   ]
  },
  {
   "cell_type": "code",
   "execution_count": 5,
   "metadata": {},
   "outputs": [
    {
     "data": {
      "text/plain": [
       "<matplotlib.axes._subplots.AxesSubplot at 0x7f42d19ffa20>"
      ]
     },
     "execution_count": 5,
     "metadata": {},
     "output_type": "execute_result"
    },
    {
     "data": {
      "image/png": "[encoded data removed]",
      "text/plain": [
       "<Figure size 432x288 with 1 Axes>"
      ]
     },
     "metadata": {},
     "output_type": "display_data"
    }
   ],
   "source": [
    "df['class'].value_counts().plot.bar()"
   ]
  },
  {
   "cell_type": "markdown",
   "metadata": {},
   "source": [
    "### Amostra das manifestações"
   ]
  },
  {
   "cell_type": "code",
   "execution_count": 6,
   "metadata": {},
   "outputs": [
    {
     "name": "stdout",
     "output_type": "stream",
     "text": [
      "Reclamação:\n",
      "Sou Julio Cesar Freitas moro na cidade de Rio Branco e venho manifestar minha insatisfação com o atendimento no Sebrae-AC.\n",
      "Essa é a terceira vez em 2 anos que procuro o Sebrae local buscando  orientações e informações sobre como iniciar um negócio que idealizado, mas não tenho tido “sorte”.\n",
      "O processo de atendimento parece não ter um fluxo padronizado. A impressão que tive, nas vezes que procurei atendimento, é que existe um enorme abismo entre o serviço propagandeado pelo Sebrae e a realidade no atendimento.\n",
      "Quero dizer que o acolhimento - pelo menos inicial já que nunca consegui passar dele - não tem fluidez.\n",
      "Na minha experiência, particularmente, sempre apareceram obstáculos. Não retorno de atendimento, remarcações e imprevistos são alguns das ocorrências que marcam minha passagem pelo órgão.\n",
      "Resumindo numa frase a minha impressão do Sebrae-AC: há um certo nível de falta de informação aliado a uma possível ausência de processo, de fluxo no atendimento inicial que acaba afastando o pretenso empreendedor.\n",
      "\n",
      "\n",
      "Elogio:\n",
      "Sr Dailson Valença, um ótimo consultor, me ajudou em tudo.\n",
      "\n",
      "Crítica:\n",
      "Uniforme insuficiente - faltou Avental p/ colaborador. Falta de divulgação na imprensa. Data escolhida fora de pagamento. Falta de comunicação com gestor. Stand de patrocinadores distribuindo bebidas e lanches gratuitamente.\n"
     ]
    }
   ],
   "source": [
    "print(\"Reclamação:\")\n",
    "for valor in df.loc[df['class']==1]['Relato'][:1].values:\n",
    "    print(valor)\n",
    "print(\"\")    \n",
    "\n",
    "print(\"Elogio:\")\n",
    "for valor in df.loc[df['class']==2]['Relato'][:1].values:\n",
    "    print(valor)\n",
    "print(\"\")    \n",
    "\n",
    "print(\"Crítica:\")\n",
    "for valor in df.loc[df['class']==4]['Relato'][:1].values:\n",
    "    print(valor)\n"
   ]
  },
  {
   "cell_type": "code",
   "execution_count": 7,
   "metadata": {},
   "outputs": [
    {
     "name": "stdout",
     "output_type": "stream",
     "text": [
      "max len text: 4096\n"
     ]
    }
   ],
   "source": [
    "print(\"max len text:\",df.Relato.map(lambda x: len(x)).max())"
   ]
  },
  {
   "cell_type": "markdown",
   "metadata": {},
   "source": [
    "### remove stop words"
   ]
  },
  {
   "cell_type": "code",
   "execution_count": 8,
   "metadata": {},
   "outputs": [],
   "source": [
    "stop_words = ['de','e','a','o','quem','que','do','para','no',\n",
    "             'em','da','um','uma','com','na','por','me','O',\n",
    "             'ao','é','como','foi','as','os','meu','A','se',\n",
    "             '-','eu','DE','pelo','E','mas','minha','dos',\n",
    "             'pela','ou','pois','at','já','DO','QUE','das',\n",
    "             'No',',','nos','ser','está','O','esse','at',\n",
    "              'estou','sem','O',\n",
    "             'Estou','No','EM','Por','sobre','tem','É','à',\n",
    "             'pra','ter','tudo','A','Eu','você','DA','esta',\n",
    "             'sua','PARA','onde','estava','.','fui','Como',\n",
    "             'quando','NO','aos','até','essa','este','sou',\n",
    "              '–','at','No']\n",
    "\n",
    "df2 = remove_stop_words(df,stop_words)"
   ]
  },
  {
   "cell_type": "code",
   "execution_count": 9,
   "metadata": {},
   "outputs": [],
   "source": [
    "X = df2.Relato\n",
    "y = df2['class']"
   ]
  },
  {
   "cell_type": "code",
   "execution_count": 10,
   "metadata": {},
   "outputs": [
    {
     "name": "stdout",
     "output_type": "stream",
     "text": [
      "qtd de palavras diferentes no vocabulário: 12383\n"
     ]
    }
   ],
   "source": [
    "vectorizer = TfidfVectorizer()\n",
    "X_list = vectorizer.fit_transform(X)\n",
    "print(\"qtd de palavras diferentes no vocabulário:\", len(vectorizer.get_feature_names()))"
   ]
  },
  {
   "cell_type": "code",
   "execution_count": 11,
   "metadata": {},
   "outputs": [],
   "source": [
    "X_train, X_test, y_train, y_test = train_test_split(X_list,y,test_size=0.2, random_state=1) "
   ]
  },
  {
   "cell_type": "code",
   "execution_count": 12,
   "metadata": {},
   "outputs": [
    {
     "name": "stdout",
     "output_type": "stream",
     "text": [
      "(1028, 12383)\n"
     ]
    }
   ],
   "source": [
    "print(X_train.shape) "
   ]
  },
  {
   "cell_type": "code",
   "execution_count": 13,
   "metadata": {},
   "outputs": [],
   "source": [
    "clf = RandomForestClassifier(n_estimators=100,max_depth=75).fit(X_train, y_train) "
   ]
  },
  {
   "cell_type": "code",
   "execution_count": 14,
   "metadata": {},
   "outputs": [],
   "source": [
    "y_pred = clf.predict(X_test)"
   ]
  },
  {
   "cell_type": "code",
   "execution_count": 15,
   "metadata": {},
   "outputs": [
    {
     "name": "stdout",
     "output_type": "stream",
     "text": [
      "[2 0 0 0 2 2 0 2 0 2 1 0 0 0 1 1 1 1 1 2 0 1 1 0 1 2 0 0 1 0]\n",
      "[0 0 0 0 2 0 0 2 0 2 1 0 1 1 1 0 0 1 1 2 0 1 0 0 1 2 0 0 1 0]\n"
     ]
    }
   ],
   "source": [
    "print(y_test.values[:30])\n",
    "print(y_pred[:30])"
   ]
  },
  {
   "cell_type": "code",
   "execution_count": 16,
   "metadata": {},
   "outputs": [],
   "source": [
    "cnf_matrix = confusion_matrix(y_test, y_pred)\n"
   ]
  },
  {
   "cell_type": "code",
   "execution_count": 17,
   "metadata": {},
   "outputs": [
    {
     "name": "stdout",
     "output_type": "stream",
     "text": [
      "Confusion matrix, without normalization\n",
      "[[93 13  1  0  0]\n",
      " [41 48  1  0  0]\n",
      " [11  4 32  0  0]\n",
      " [ 8  1  1  0  0]\n",
      " [ 4  0  0  0  0]]\n"
     ]
    },
    {
     "data": {
      "image/png": "[encoded data removed]",
      "text/plain": [
       "<Figure size 432x288 with 2 Axes>"
      ]
     },
     "metadata": {},
     "output_type": "display_data"
    }
   ],
   "source": [
    "plt.figure()\n",
    "classes = ['Solicitação','Reclamação','Elogio','Sugestão','Crítica']\n",
    "plot_confusion_matrix(cnf_matrix, classes=classes,\n",
    "                      title='Confusion matrix')"
   ]
  },
  {
   "cell_type": "code",
   "execution_count": 18,
   "metadata": {},
   "outputs": [
    {
     "name": "stdout",
     "output_type": "stream",
     "text": [
      "accuracy 0.6705426356589147\n",
      "             precision    recall  f1-score   support\n",
      "\n",
      "Solicitação       0.59      0.87      0.70       107\n",
      " Reclamação       0.73      0.53      0.62        90\n",
      "     Elogio       0.91      0.68      0.78        47\n",
      "   Sugestão       0.00      0.00      0.00        10\n",
      "    Crítica       0.00      0.00      0.00         4\n",
      "\n",
      "avg / total       0.67      0.67      0.65       258\n",
      "\n"
     ]
    },
    {
     "name": "stderr",
     "output_type": "stream",
     "text": [
      "/home/chris/anaconda3/lib/python3.6/site-packages/sklearn/metrics/classification.py:1135: UndefinedMetricWarning: Precision and F-score are ill-defined and being set to 0.0 in labels with no predicted samples.\n",
      "  'precision', 'predicted', average, warn_for)\n"
     ]
    }
   ],
   "source": [
    "print('accuracy %s' % accuracy_score(y_pred, y_test))\n",
    "print(classification_report(y_test, y_pred,target_names=classes))"
   ]
  },
  {
   "cell_type": "code",
   "execution_count": 19,
   "metadata": {},
   "outputs": [
    {
     "name": "stdout",
     "output_type": "stream",
     "text": [
      "errou a previsao no indice: 8\n",
      "texto: ligo toda hora ninguem atende\n",
      "classe prevista: 0\n",
      "classe verdadeira: 1\n",
      "\n"
     ]
    }
   ],
   "source": [
    "for index in range(30):\n",
    "    X_test_dummy = vectorizer.transform([df.Relato[index]])\n",
    "    previsao = clf.predict(X_test_dummy)[0]\n",
    "    if(previsao != df['class'][index]): #errou\n",
    "        print(\"errou a previsao no indice:\",index)\n",
    "        print(\"texto:\", df.Relato[index])\n",
    "        print(\"classe prevista:\", previsao)\n",
    "        print(\"classe verdadeira:\",df['class'][index])\n",
    "        print(\"\")"
   ]
  },
  {
   "cell_type": "markdown",
   "metadata": {},
   "source": [
    "### Gridsearch para tunagem de hyperparams"
   ]
  },
  {
   "cell_type": "code",
   "execution_count": 20,
   "metadata": {},
   "outputs": [],
   "source": [
    "tuned_parameters = {'n_estimators':[5,10,20,40,80,100, 120, 160, 180], \n",
    "                    'max_depth':[5, 10, 20, 30, 40, 50, 75],\n",
    "                    'random_state':[0],\n",
    "                   'warm_start':[True,False]}"
   ]
  },
  {
   "cell_type": "code",
   "execution_count": 21,
   "metadata": {},
   "outputs": [],
   "source": [
    "# clf = GridSearchCV(RandomForestClassifier(), tuned_parameters)\n",
    "# clf.fit(X_train, y_train.values.ravel())\n",
    "\n",
    "# print(\"Best parameters set found on development set:\")\n",
    "# print()\n",
    "# print(clf.best_params_)\n",
    "# print()\n",
    "# print(\"Grid scores on development set:\")\n",
    "# print()\n",
    "# means = clf.cv_results_['mean_test_score']\n",
    "# stds = clf.cv_results_['std_test_score']\n",
    "# for mean, std, params in zip(means, stds, clf.cv_results_['params']):\n",
    "#     print(\"%0.3f (+/-%0.03f) for %r\"\n",
    "#           % (mean, std * 2, params))\n",
    "# print()\n",
    "\n",
    "# print(\"Detailed classification report:\")\n",
    "# print()\n",
    "# print(\"The model is trained on the full development set.\")\n",
    "# print(\"The scores are computed on the full evaluation set.\")\n",
    "# print()\n",
    "# y_true, y_pred = y_test, clf.predict(X_test)\n",
    "# print(classification_report(y_true, y_pred))\n",
    "# print()\n",
    "\n",
    "# #Best parameters set found on development set:\n",
    "\n",
    "# #{'max_depth': 75, 'n_estimators': 100, 'random_state': 0, 'warm_start': True}"
   ]
  },
  {
   "cell_type": "code",
   "execution_count": null,
   "metadata": {},
   "outputs": [],
   "source": []
  }
 ],
 "metadata": {
  "kernelspec": {
   "display_name": "Python [default]",
   "language": "python",
   "name": "python3"
  },
  "language_info": {
   "codemirror_mode": {
    "name": "ipython",
    "version": 3
   },
   "file_extension": ".py",
   "mimetype": "text/x-python",
   "name": "python",
   "nbconvert_exporter": "python",
   "pygments_lexer": "ipython3",
   "version": "3.6.8"
  }
 },
 "nbformat": 4,
 "nbformat_minor": 2
}
