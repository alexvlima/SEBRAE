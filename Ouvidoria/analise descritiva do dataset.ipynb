{
 "cells": [
  {
   "cell_type": "code",
   "execution_count": 1,
   "metadata": {},
   "outputs": [],
   "source": [
    "import pandas as pd\n",
    "import matplotlib.pyplot as plt\n",
    "from collections import Counter\n",
    "import spacy"
   ]
  },
  {
   "cell_type": "code",
   "execution_count": 2,
   "metadata": {},
   "outputs": [],
   "source": [
    "df = pd.read_excel(\"data/sebrae.xls\")"
   ]
  },
  {
   "cell_type": "code",
   "execution_count": 3,
   "metadata": {},
   "outputs": [
    {
     "data": {
      "text/plain": [
       "Index(['N. da manifestação', 'Situação', 'Área de tratamento', 'Relato',\n",
       "       'Natureza', 'Assunto principal', 'Sub assunto 1', 'Sub assunto 2',\n",
       "       'Sub assunto 3', 'Produto serviço', 'Canal de entrada',\n",
       "       'Cliente interno', 'Cidade do cliente', 'UF do cliente',\n",
       "       'Dt. cadastro manifestação', 'Previsão de conclusão', 'Tempo resposta'],\n",
       "      dtype='object')"
      ]
     },
     "execution_count": 3,
     "metadata": {},
     "output_type": "execute_result"
    }
   ],
   "source": [
    "df.columns"
   ]
  },
  {
   "cell_type": "code",
   "execution_count": 4,
   "metadata": {},
   "outputs": [
    {
     "name": "stdout",
     "output_type": "stream",
     "text": [
      "(1286, 17)\n"
     ]
    },
    {
     "data": {
      "text/html": [
       "<div>\n",
       "<style scoped>\n",
       "    .dataframe tbody tr th:only-of-type {\n",
       "        vertical-align: middle;\n",
       "    }\n",
       "\n",
       "    .dataframe tbody tr th {\n",
       "        vertical-align: top;\n",
       "    }\n",
       "\n",
       "    .dataframe thead th {\n",
       "        text-align: right;\n",
       "    }\n",
       "</style>\n",
       "<table border=\"1\" class=\"dataframe\">\n",
       "  <thead>\n",
       "    <tr style=\"text-align: right;\">\n",
       "      <th></th>\n",
       "      <th>N. da manifestação</th>\n",
       "      <th>Situação</th>\n",
       "      <th>Área de tratamento</th>\n",
       "      <th>Relato</th>\n",
       "      <th>Natureza</th>\n",
       "      <th>Assunto principal</th>\n",
       "      <th>Sub assunto 1</th>\n",
       "      <th>Sub assunto 2</th>\n",
       "      <th>Sub assunto 3</th>\n",
       "      <th>Produto serviço</th>\n",
       "      <th>Canal de entrada</th>\n",
       "      <th>Cliente interno</th>\n",
       "      <th>Cidade do cliente</th>\n",
       "      <th>UF do cliente</th>\n",
       "      <th>Dt. cadastro manifestação</th>\n",
       "      <th>Previsão de conclusão</th>\n",
       "      <th>Tempo resposta</th>\n",
       "    </tr>\n",
       "  </thead>\n",
       "  <tbody>\n",
       "    <tr>\n",
       "      <th>0</th>\n",
       "      <td>76432018</td>\n",
       "      <td>Finalizada</td>\n",
       "      <td>Sebrae/AC</td>\n",
       "      <td>Boa tarde.\\n\\nDesde algum tempo que acompanho ...</td>\n",
       "      <td>Solicitação</td>\n",
       "      <td>Atendimento Sebrae</td>\n",
       "      <td>Online/Chat</td>\n",
       "      <td>Cadastro</td>\n",
       "      <td>NaN</td>\n",
       "      <td>NaN</td>\n",
       "      <td>Portal</td>\n",
       "      <td>Não</td>\n",
       "      <td>NaN</td>\n",
       "      <td>NaN</td>\n",
       "      <td>25/10/2018 13:25</td>\n",
       "      <td>04/11/2018</td>\n",
       "      <td>6</td>\n",
       "    </tr>\n",
       "    <tr>\n",
       "      <th>1</th>\n",
       "      <td>85632018</td>\n",
       "      <td>Finalizada</td>\n",
       "      <td>Sebrae/AC</td>\n",
       "      <td>Sou Julio Cesar Freitas moro na cidade de Rio ...</td>\n",
       "      <td>Reclamação</td>\n",
       "      <td>Atendimento Sebrae</td>\n",
       "      <td>Presencial</td>\n",
       "      <td>Falta de retorno</td>\n",
       "      <td>NaN</td>\n",
       "      <td>NaN</td>\n",
       "      <td>Portal</td>\n",
       "      <td>Não</td>\n",
       "      <td>Rio Branco</td>\n",
       "      <td>AC</td>\n",
       "      <td>06/12/2018 12:15</td>\n",
       "      <td>16/12/2018</td>\n",
       "      <td>15</td>\n",
       "    </tr>\n",
       "    <tr>\n",
       "      <th>2</th>\n",
       "      <td>87912018</td>\n",
       "      <td>Finalizada</td>\n",
       "      <td>Sebrae/AC</td>\n",
       "      <td>o meu programa de nfe nao esta mais instalando</td>\n",
       "      <td>Solicitação</td>\n",
       "      <td>Emissor de Nota Fiscal - NF-e/CT-e</td>\n",
       "      <td>NaN</td>\n",
       "      <td>NaN</td>\n",
       "      <td>NaN</td>\n",
       "      <td>NaN</td>\n",
       "      <td>Chatbot</td>\n",
       "      <td>Não</td>\n",
       "      <td>NaN</td>\n",
       "      <td>AC</td>\n",
       "      <td>19/12/2018 18:54</td>\n",
       "      <td>29/12/2018</td>\n",
       "      <td>2</td>\n",
       "    </tr>\n",
       "  </tbody>\n",
       "</table>\n",
       "</div>"
      ],
      "text/plain": [
       "   N. da manifestação    Situação Área de tratamento  \\\n",
       "0            76432018  Finalizada          Sebrae/AC   \n",
       "1            85632018  Finalizada          Sebrae/AC   \n",
       "2            87912018  Finalizada          Sebrae/AC   \n",
       "\n",
       "                                              Relato     Natureza  \\\n",
       "0  Boa tarde.\\n\\nDesde algum tempo que acompanho ...  Solicitação   \n",
       "1  Sou Julio Cesar Freitas moro na cidade de Rio ...   Reclamação   \n",
       "2     o meu programa de nfe nao esta mais instalando  Solicitação   \n",
       "\n",
       "                    Assunto principal Sub assunto 1     Sub assunto 2  \\\n",
       "0                  Atendimento Sebrae   Online/Chat          Cadastro   \n",
       "1                  Atendimento Sebrae    Presencial  Falta de retorno   \n",
       "2  Emissor de Nota Fiscal - NF-e/CT-e           NaN               NaN   \n",
       "\n",
       "  Sub assunto 3 Produto serviço Canal de entrada Cliente interno  \\\n",
       "0           NaN             NaN           Portal             Não   \n",
       "1           NaN             NaN           Portal             Não   \n",
       "2           NaN             NaN          Chatbot             Não   \n",
       "\n",
       "  Cidade do cliente UF do cliente Dt. cadastro manifestação  \\\n",
       "0               NaN           NaN          25/10/2018 13:25   \n",
       "1        Rio Branco            AC          06/12/2018 12:15   \n",
       "2               NaN            AC          19/12/2018 18:54   \n",
       "\n",
       "  Previsão de conclusão  Tempo resposta  \n",
       "0            04/11/2018               6  \n",
       "1            16/12/2018              15  \n",
       "2            29/12/2018               2  "
      ]
     },
     "execution_count": 4,
     "metadata": {},
     "output_type": "execute_result"
    }
   ],
   "source": [
    "print(df.shape)\n",
    "df.head(3)"
   ]
  },
  {
   "cell_type": "markdown",
   "metadata": {},
   "source": [
    "### Distribuição das manifestações por categoria"
   ]
  },
  {
   "cell_type": "code",
   "execution_count": 5,
   "metadata": {},
   "outputs": [
    {
     "name": "stdout",
     "output_type": "stream",
     "text": [
      "Solicitação    507\n",
      "Reclamação     454\n",
      "Elogio         204\n",
      "Sugestão        78\n",
      "Crítica         43\n",
      "Name: Natureza, dtype: int64\n"
     ]
    },
    {
     "data": {
      "text/plain": [
       "<matplotlib.axes._subplots.AxesSubplot at 0x7f174193a7f0>"
      ]
     },
     "execution_count": 5,
     "metadata": {},
     "output_type": "execute_result"
    },
    {
     "data": {
      "image/png": "[encoded data removed]",
      "text/plain": [
       "<Figure size 432x288 with 1 Axes>"
      ]
     },
     "metadata": {},
     "output_type": "display_data"
    }
   ],
   "source": [
    "print(df.Natureza.value_counts())\n",
    "df.Natureza.value_counts().plot.bar()"
   ]
  },
  {
   "cell_type": "markdown",
   "metadata": {},
   "source": [
    "### Qtd de reclamações por estado"
   ]
  },
  {
   "cell_type": "code",
   "execution_count": 6,
   "metadata": {},
   "outputs": [
    {
     "data": {
      "text/plain": [
       "<matplotlib.axes._subplots.AxesSubplot at 0x7f17418855c0>"
      ]
     },
     "execution_count": 6,
     "metadata": {},
     "output_type": "execute_result"
    },
    {
     "data": {
      "image/png": "[encoded data removed]",
      "text/plain": [
       "<Figure size 432x288 with 1 Axes>"
      ]
     },
     "metadata": {},
     "output_type": "display_data"
    }
   ],
   "source": [
    "grouped = df.loc[df.Natureza=='Reclamação'].groupby('UF do cliente')\n",
    "grouped['N. da manifestação'].count().sort_values(ascending=False).plot.bar()"
   ]
  },
  {
   "cell_type": "markdown",
   "metadata": {},
   "source": [
    "### Qtd de elogios por estado"
   ]
  },
  {
   "cell_type": "code",
   "execution_count": 7,
   "metadata": {},
   "outputs": [
    {
     "data": {
      "text/plain": [
       "<matplotlib.axes._subplots.AxesSubplot at 0x7f173f7a6470>"
      ]
     },
     "execution_count": 7,
     "metadata": {},
     "output_type": "execute_result"
    },
    {
     "data": {
      "image/png": "[encoded data removed]",
      "text/plain": [
       "<Figure size 432x288 with 1 Axes>"
      ]
     },
     "metadata": {},
     "output_type": "display_data"
    }
   ],
   "source": [
    "grouped = df.loc[df.Natureza=='Elogio'].groupby('UF do cliente')\n",
    "grouped['N. da manifestação'].count().sort_values(ascending=False).plot.bar()"
   ]
  },
  {
   "cell_type": "markdown",
   "metadata": {},
   "source": [
    "### Tamanho medio das manifestações"
   ]
  },
  {
   "cell_type": "code",
   "execution_count": 8,
   "metadata": {},
   "outputs": [],
   "source": [
    "ct = 0\n",
    "word_count = 0\n",
    "len_count = 0\n",
    "for sentiment in df.Relato:\n",
    "    \n",
    "    #print(len(sentiment.split()))\n",
    "    word_count += len(sentiment.split())\n",
    "    len_count += len(sentiment)\n",
    "    \n",
    "    ct +=1"
   ]
  },
  {
   "cell_type": "code",
   "execution_count": 9,
   "metadata": {},
   "outputs": [
    {
     "name": "stdout",
     "output_type": "stream",
     "text": [
      "qtd media de palavras: 83\n",
      "qtd media de caracteres: 530\n"
     ]
    }
   ],
   "source": [
    "print(\"qtd media de palavras:\", int(word_count/ct))\n",
    "print(\"qtd media de caracteres:\", int(len_count/ct))"
   ]
  },
  {
   "cell_type": "markdown",
   "metadata": {},
   "source": [
    "### Remove stop words"
   ]
  },
  {
   "cell_type": "code",
   "execution_count": 10,
   "metadata": {},
   "outputs": [],
   "source": [
    "def remove_stop_words(df,words):\n",
    "    for word in words:\n",
    "        word = \" \" + word + \" \"\n",
    "        df.Relato = df.Relato.str.replace(word,' ')\n",
    "    return df"
   ]
  },
  {
   "cell_type": "code",
   "execution_count": 11,
   "metadata": {},
   "outputs": [],
   "source": [
    "stop_words = ['de','e','a','o','quem','que','do','para','no',\n",
    "             'em','da','um','uma','com','na','por','me','O',\n",
    "             'ao','é','como','foi','as','os','meu','A','se',\n",
    "             '-','eu','DE','pelo','E','mas','minha','dos',\n",
    "             'pela','ou','pois','at','já','DO','QUE','das',\n",
    "             'No',',','nos','ser','está','O','esse','at',\n",
    "              'estou','Atenciosamente', 'Bom dia','sem','O',\n",
    "             'Estou','No','EM','Por','sobre','tem','É','à',\n",
    "             'pra','ter','tudo','A','Eu','você','DA','esta',\n",
    "             'sua','PARA','onde','estava','.','fui','Como',\n",
    "             'quando','NO','aos','até','essa','este','sou',\n",
    "              '–','at','No']\n",
    "\n",
    "df2 = remove_stop_words(df,stop_words)"
   ]
  },
  {
   "cell_type": "markdown",
   "metadata": {},
   "source": [
    "### Palavras mais comuns do dataset"
   ]
  },
  {
   "cell_type": "code",
   "execution_count": 12,
   "metadata": {},
   "outputs": [],
   "source": [
    "reviews = df2.Relato\n",
    "\n",
    "all_text = ' '.join(reviews)\n",
    "words = all_text.split()"
   ]
  },
  {
   "cell_type": "code",
   "execution_count": 13,
   "metadata": {},
   "outputs": [
    {
     "data": {
      "text/plain": [
       "[('não', 1297),\n",
       " ('Sebrae', 360),\n",
       " ('dia', 322),\n",
       " ('mais', 299),\n",
       " ('curso', 293),\n",
       " ('muito', 262),\n",
       " ('fazer', 246),\n",
       " ('empresa', 234),\n",
       " ('atendimento', 212),\n",
       " ('SEBRAE', 212),\n",
       " ('saber', 202),\n",
       " ('Boa', 167),\n",
       " ('mesmo', 161),\n",
       " ('Gostaria', 160),\n",
       " ('at', 160),\n",
       " ('site', 154),\n",
       " ('gostaria', 150),\n",
       " ('contato', 142),\n",
       " ('MEI', 141),\n",
       " ('e-mail', 141),\n",
       " ('tenho', 131),\n",
       " ('todos', 125),\n",
       " ('ele', 123),\n",
       " ('Bom', 123),\n",
       " ('Não', 120),\n",
       " ('isso', 120),\n",
       " ('informações', 114),\n",
       " ('O', 114),\n",
       " ('só', 113),\n",
       " ('seu', 111)]"
      ]
     },
     "execution_count": 13,
     "metadata": {},
     "output_type": "execute_result"
    }
   ],
   "source": [
    "counts = Counter(words)\n",
    "\n",
    "## Removendo algumas stop words que apareceram primeiro\n",
    "counts.most_common()[:30]\n",
    "#for palavra,qtd in counts.most_common():\n",
    "#    print(palavra)"
   ]
  },
  {
   "cell_type": "markdown",
   "metadata": {},
   "source": [
    "### Palavras mais comuns da categoria reclamação"
   ]
  },
  {
   "cell_type": "code",
   "execution_count": 14,
   "metadata": {},
   "outputs": [
    {
     "data": {
      "text/plain": [
       "[('não', 717),\n",
       " ('dia', 191),\n",
       " ('Sebrae', 182),\n",
       " ('curso', 150),\n",
       " ('mais', 131),\n",
       " ('fazer', 116),\n",
       " ('SEBRAE', 108),\n",
       " ('empresa', 103),\n",
       " ('atendimento', 99),\n",
       " ('mesmo', 90),\n",
       " ('site', 83),\n",
       " ('ele', 79),\n",
       " ('contato', 78),\n",
       " ('cliente', 77),\n",
       " ('e-mail', 74),\n",
       " ('só', 67),\n",
       " ('muito', 67),\n",
       " ('ela', 67),\n",
       " ('NÃO', 66),\n",
       " ('isso', 64),\n",
       " ('pessoas', 59),\n",
       " ('No', 57),\n",
       " ('tinha', 57),\n",
       " ('Não', 55),\n",
       " ('Cliente', 55),\n",
       " ('MEI', 54),\n",
       " ('Boa', 54),\n",
       " ('falta', 53),\n",
       " ('sistema', 53),\n",
       " ('via', 53)]"
      ]
     },
     "execution_count": 14,
     "metadata": {},
     "output_type": "execute_result"
    }
   ],
   "source": [
    "reviews = df.loc[df.Natureza=='Reclamação'].Relato\n",
    "\n",
    "all_text = ' '.join(reviews)\n",
    "words = all_text.split()\n",
    "counts = Counter(words)\n",
    "\n",
    "## Removendo algumas stop words que apareceram primeiro\n",
    "counts.most_common()[:30]"
   ]
  },
  {
   "cell_type": "markdown",
   "metadata": {},
   "source": [
    "### Palavras mais comuns da categoria elogio"
   ]
  },
  {
   "cell_type": "code",
   "execution_count": 15,
   "metadata": {},
   "outputs": [
    {
     "data": {
      "text/plain": [
       "[('muito', 121),\n",
       " ('atendimento', 73),\n",
       " ('Sebrae', 53),\n",
       " ('elogio', 39),\n",
       " ('recebeu', 39),\n",
       " ('não', 38),\n",
       " ('pesquisa', 38),\n",
       " ('recebido', 36),\n",
       " ('Cliente', 35),\n",
       " ('SEBRAE', 32),\n",
       " ('Elogio', 30),\n",
       " ('dia', 30),\n",
       " ('via', 29),\n",
       " ('nossa', 28),\n",
       " ('bem', 27),\n",
       " ('Gostaria', 27),\n",
       " ('equipe', 26),\n",
       " ('bom', 26),\n",
       " ('deixar', 26),\n",
       " ('curso', 26),\n",
       " ('todos', 25),\n",
       " ('agradecer', 25),\n",
       " ('mais', 25),\n",
       " ('seu', 24),\n",
       " ('contato', 24),\n",
       " ('e-mail', 23),\n",
       " ('todas', 22),\n",
       " ('saber', 22),\n",
       " ('entrou', 22),\n",
       " ('excelente', 21)]"
      ]
     },
     "execution_count": 15,
     "metadata": {},
     "output_type": "execute_result"
    }
   ],
   "source": [
    "reviews = df.loc[df.Natureza=='Elogio'].Relato\n",
    "\n",
    "all_text = ' '.join(reviews)\n",
    "words = all_text.split()\n",
    "counts = Counter(words)\n",
    "\n",
    "## Removendo algumas stop words que apareceram primeiro\n",
    "counts.most_common()[:30]"
   ]
  },
  {
   "cell_type": "markdown",
   "metadata": {},
   "source": [
    "### Extração de entidades"
   ]
  },
  {
   "cell_type": "code",
   "execution_count": 16,
   "metadata": {},
   "outputs": [
    {
     "name": "stdout",
     "output_type": "stream",
     "text": [
      "texto: Boa tarde.\n",
      "\n",
      "Desde algum tempo acompanho vossa informação porque bastante interesse. Desde meus parabéns.\n",
      "Gostaria continuar aceder vosso site necessário colocar  CPF, estado cidade, dado não enquadro, português. fazer cadastrar?\n",
      "\n",
      "Cumprimentos,\n",
      "Luís Espadana\n",
      "entidades:\n",
      "entidade: Gostaria continuar aceder vosso site necessário , posicoes: 105 , 152 MISC\n",
      "entidade: CPF , posicoes: 162 , 165 ORG\n",
      "entidade: Luís Espadana , posicoes: 244 , 257 PER\n",
      "\n",
      "texto: Sou Julio Cesar Freitas moro cidade Rio Branco venho manifestar insatisfação atendimento Sebrae-AC.\n",
      "Essa terceira vez anos procuro Sebrae local buscando  orientações informações iniciar negócio idealizado, não tenho tido “sorte”.\n",
      "O processo atendimento parece não fluxo padronizado. impressão tive, nas vezes procurei atendimento, existe enorme abismo entre serviço propagandeado Sebrae realidade atendimento.\n",
      "Quero dizer acolhimento menos inicial nunca consegui passar dele não fluidez.\n",
      "Na experiência, particularmente, sempre apareceram obstáculos. Não retorno atendimento, remarcações imprevistos são alguns ocorrências marcam passagem órgão.\n",
      "Resumindo numa frase impressão Sebrae-AC: há certo nível falta informação aliado possível ausência processo, fluxo atendimento inicial acaba afastando pretenso empreendedor.\n",
      "\n",
      "entidades:\n",
      "entidade: Sou Julio Cesar Freitas , posicoes: 0 , 23 PER\n",
      "entidade: Rio Branco , posicoes: 36 , 46 LOC\n",
      "entidade: Sebrae , posicoes: 89 , 95 LOC\n",
      "entidade: AC , posicoes: 96 , 98 ORG\n",
      "entidade: Sebrae , posicoes: 131 , 137 LOC\n",
      "entidade: Sebrae , posicoes: 380 , 386 LOC\n",
      "entidade: Quero , posicoes: 410 , 415 PER\n",
      "entidade: Sebrae , posicoes: 677 , 683 LOC\n",
      "entidade: AC , posicoes: 684 , 686 LOC\n",
      "\n"
     ]
    }
   ],
   "source": [
    "nlp = spacy.load('pt_core_news_sm')\n",
    "textos = df.Relato[:2]\n",
    "for texto in textos:\n",
    "    print(\"texto:\", texto)\n",
    "    print(\"entidades:\")\n",
    "    doc = nlp(texto)\n",
    "    for ent in doc.ents:\n",
    "        print(\"entidade:\", ent.text, \", posicoes:\", ent.start_char,\",\", ent.end_char, ent.label_)\n",
    "    print()"
   ]
  },
  {
   "cell_type": "code",
   "execution_count": null,
   "metadata": {},
   "outputs": [],
   "source": []
  }
 ],
 "metadata": {
  "kernelspec": {
   "display_name": "Python [default]",
   "language": "python",
   "name": "python3"
  },
  "language_info": {
   "codemirror_mode": {
    "name": "ipython",
    "version": 3
   },
   "file_extension": ".py",
   "mimetype": "text/x-python",
   "name": "python",
   "nbconvert_exporter": "python",
   "pygments_lexer": "ipython3",
   "version": "3.6.8"
  }
 },
 "nbformat": 4,
 "nbformat_minor": 2
}
